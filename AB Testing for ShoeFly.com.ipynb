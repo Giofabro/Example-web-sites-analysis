{
 "cells": [
  {
   "cell_type": "markdown",
   "id": "2377113b",
   "metadata": {},
   "source": [
    "# A/B Testing for ShoeFly.com"
   ]
  },
  {
   "cell_type": "code",
   "execution_count": 1,
   "id": "4c0cdf51",
   "metadata": {},
   "outputs": [],
   "source": [
    "import requests\n",
    "import pandas as pd\n",
    "\n",
    "url = 'https://github.com/Giofabro/exercise-data-analysis/raw/main/Pandas/Excel1.xlsx'\n",
    "response = requests.get(url)\n",
    "open('Excel1.xlsx', 'wb').write(response.content)\n",
    "\n",
    "ad_clicks = pd.read_excel('Excel1.xlsx')"
   ]
  },
  {
   "cell_type": "markdown",
   "id": "75ee7362",
   "metadata": {},
   "source": [
    "Let's examine the first few rows of our dataframe!"
   ]
  },
  {
   "cell_type": "code",
   "execution_count": 2,
   "id": "ab126202",
   "metadata": {},
   "outputs": [
    {
     "name": "stdout",
     "output_type": "stream",
     "text": [
      "   Unnamed: 0                               user-id utm_source           day  \\\n",
      "0           0  008b7c6c-7272-471e-b90e-930d548bd8d7     google  6 - Saturday   \n",
      "1           1  009abb94-5e14-4b6c-bb1c-4f4df7aa7557   facebook    7 - Sunday   \n",
      "2           2  00f5d532-ed58-4570-b6d2-768df5f41aed    twitter   2 - Tuesday   \n",
      "3           3  011adc64-0f44-4fd9-a0bb-f1506d2ad439     google   2 - Tuesday   \n",
      "4           4  012137e6-7ae7-4649-af68-205b4702169c   facebook    7 - Sunday   \n",
      "\n",
      "  ad_click_timestamp experimental_group  \n",
      "0           07:18:00                  A  \n",
      "1                NaN                  B  \n",
      "2                NaN                  A  \n",
      "3                NaN                  B  \n",
      "4                NaN                  B  \n"
     ]
    }
   ],
   "source": [
    "print(ad_clicks.head())"
   ]
  },
  {
   "cell_type": "markdown",
   "id": "ce27d5ff",
   "metadata": {},
   "source": [
    "Piccolo errore. Rinominiamo colonna 'user-id' con 'user_id'"
   ]
  },
  {
   "cell_type": "code",
   "execution_count": 3,
   "id": "9298a58a",
   "metadata": {},
   "outputs": [],
   "source": [
    "ad_clicks.rename(columns ={'user-id': 'user_id'}, inplace = True)"
   ]
  },
  {
   "cell_type": "markdown",
   "id": "4146caba",
   "metadata": {},
   "source": [
    "We evaluate which platform had more visits."
   ]
  },
  {
   "cell_type": "code",
   "execution_count": 4,
   "id": "af56db49",
   "metadata": {},
   "outputs": [
    {
     "name": "stdout",
     "output_type": "stream",
     "text": [
      "  utm_source  user_id\n",
      "0      email      255\n",
      "1   facebook      504\n",
      "2     google      680\n",
      "3    twitter      215\n"
     ]
    }
   ],
   "source": [
    "mayor_utm_source = ad_clicks.groupby('utm_source').user_id.count().reset_index()\n",
    "\n",
    "print(mayor_utm_source)"
   ]
  },
  {
   "cell_type": "markdown",
   "id": "f85e967d",
   "metadata": {},
   "source": [
    "Google is the winner! Well, let's proceed with the analysis. We want to know the percentage of people who clicked on the ads in each utm_source.\n",
    "\n",
    "We start by grouping by utm_source and is_click and counting the number of user_ids in each of these groups. We save the answer in the clicks_by_source variable. "
   ]
  },
  {
   "cell_type": "code",
   "execution_count": 10,
   "id": "caa09ba2",
   "metadata": {},
   "outputs": [],
   "source": [
    "ad_clicks['is_click'] = ~ad_clicks.ad_click_timestamp.isnull()\n",
    "\n",
    "clicks_by_source = ad_clicks\\\n",
    "   .groupby(['utm_source',\n",
    "             'is_click'])\\\n",
    "   .user_id.count()\\\n",
    "   .reset_index()"
   ]
  },
  {
   "cell_type": "markdown",
   "id": "c0741dae",
   "metadata": {},
   "source": [
    "Now let's pivot the data so that the columns are is_click (either True or False), the index is utm_source, and the values are user_id."
   ]
  },
  {
   "cell_type": "code",
   "execution_count": 11,
   "id": "95ad6274",
   "metadata": {},
   "outputs": [],
   "source": [
    "clicks_pivot = clicks_by_source.pivot(\n",
    "    index='utm_source',\n",
    "    columns='is_click',\n",
    "    values='user_id').reset_index()"
   ]
  },
  {
   "cell_type": "markdown",
   "id": "e4d521e0",
   "metadata": {},
   "source": [
    "We create a new column in clicks_pivot called percent_clicked that is equal to the percentage of users who clicked on the ad from each utm_source."
   ]
  },
  {
   "cell_type": "code",
   "execution_count": 12,
   "id": "ff44989f",
   "metadata": {},
   "outputs": [],
   "source": [
    "clicks_pivot['percent_clicked'] = \\\n",
    "   clicks_pivot[True] / \\\n",
    "   (clicks_pivot[True] + \n",
    "    clicks_pivot[False])"
   ]
  },
  {
   "cell_type": "code",
   "execution_count": 14,
   "id": "7d0ea73a",
   "metadata": {},
   "outputs": [
    {
     "name": "stdout",
     "output_type": "stream",
     "text": [
      "is_click utm_source  False  True  percent_clicked\n",
      "0             email    175    80         0.313725\n",
      "1          facebook    324   180         0.357143\n",
      "2            google    441   239         0.351471\n",
      "3           twitter    149    66         0.306977\n"
     ]
    }
   ],
   "source": [
    "print(clicks_pivot)"
   ]
  },
  {
   "cell_type": "code",
   "execution_count": null,
   "id": "211d0caa",
   "metadata": {},
   "outputs": [],
   "source": []
  }
 ],
 "metadata": {
  "kernelspec": {
   "display_name": "Python 3 (ipykernel)",
   "language": "python",
   "name": "python3"
  },
  "language_info": {
   "codemirror_mode": {
    "name": "ipython",
    "version": 3
   },
   "file_extension": ".py",
   "mimetype": "text/x-python",
   "name": "python",
   "nbconvert_exporter": "python",
   "pygments_lexer": "ipython3",
   "version": "3.9.12"
  }
 },
 "nbformat": 4,
 "nbformat_minor": 5
}
